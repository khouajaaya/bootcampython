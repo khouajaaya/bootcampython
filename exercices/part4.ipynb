{
 "cells": [
  {
   "cell_type": "markdown",
   "id": "47a096ce",
   "metadata": {},
   "source": [
    "### Exercice 1:"
   ]
  },
  {
   "cell_type": "markdown",
   "id": "f4977bb9",
   "metadata": {},
   "source": [
    "Write a Python class named square constructed by a length and two methods which will compute the area and the perimeter of the square."
   ]
  },
  {
   "cell_type": "code",
   "execution_count": 35,
   "id": "48a899aa",
   "metadata": {},
   "outputs": [],
   "source": [
    "class square():\n",
    "    def __init__(self,length):\n",
    "        self.length = length\n",
    "        print(\"this is the result \")\n",
    "    def s_area(self):\n",
    "        return self.length * self.length\n",
    "    def r_perimeter(self):\n",
    "        return 4 * self.length \n"
   ]
  },
  {
   "cell_type": "markdown",
   "id": "63d320bf",
   "metadata": {},
   "source": [
    "### Exercice 2:"
   ]
  },
  {
   "cell_type": "markdown",
   "id": "2ac6a965",
   "metadata": {},
   "source": [
    "Write a python class rectangle that inherits from the square class."
   ]
  },
  {
   "cell_type": "code",
   "execution_count": 39,
   "id": "007adc0d",
   "metadata": {},
   "outputs": [
    {
     "name": "stdout",
     "output_type": "stream",
     "text": [
      "this is the result \n",
      "280\n",
      "4900\n"
     ]
    }
   ],
   "source": [
    "class rect(square):\n",
    "        def __init__(self,largeur, lenght):\n",
    "            self.largeur = largeur\n",
    "            super(rect, self).__init__(lenght)\n",
    "        pass\n",
    "\n",
    "r = rect(30, 70)\n",
    "print(r.r_perimeter())\n",
    "print(r.s_area())"
   ]
  },
  {
   "cell_type": "markdown",
   "id": "14d9d504",
   "metadata": {},
   "source": [
    "### Exercice 3:"
   ]
  },
  {
   "cell_type": "code",
   "execution_count": 16,
   "id": "46dd0e2e",
   "metadata": {},
   "outputs": [
    {
     "name": "stdout",
     "output_type": "stream",
     "text": [
      "5\n",
      "30\n"
     ]
    }
   ],
   "source": [
    "class SpleClass:\n",
    "\n",
    "    def __init__(self, m):\n",
    "        self.m = m\n",
    "\n",
    "L = SpleClass(5)\n",
    "print(L.m)\n",
    "L.m = 30\n",
    "print(L.m)"
   ]
  },
  {
   "cell_type": "markdown",
   "id": "048585b9",
   "metadata": {},
   "source": [
    "Use python decorators to make the above code works"
   ]
  },
  {
   "cell_type": "code",
   "execution_count": null,
   "id": "70533302",
   "metadata": {},
   "outputs": [],
   "source": []
  },
  {
   "cell_type": "code",
   "execution_count": null,
   "id": "71ec372d",
   "metadata": {},
   "outputs": [],
   "source": []
  }
 ],
 "metadata": {
  "kernelspec": {
   "display_name": "Python 3 (ipykernel)",
   "language": "python",
   "name": "python3"
  },
  "language_info": {
   "codemirror_mode": {
    "name": "ipython",
    "version": 3
   },
   "file_extension": ".py",
   "mimetype": "text/x-python",
   "name": "python",
   "nbconvert_exporter": "python",
   "pygments_lexer": "ipython3",
   "version": "3.9.10"
  }
 },
 "nbformat": 4,
 "nbformat_minor": 5
}
